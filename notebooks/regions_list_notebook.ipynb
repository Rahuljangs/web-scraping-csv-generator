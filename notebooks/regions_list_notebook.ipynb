{
 "cells": [
  {
   "cell_type": "code",
   "execution_count": 9,
   "metadata": {},
   "outputs": [
    {
     "name": "stdout",
     "output_type": "stream",
     "text": [
      "CSV file has been created at: D://uw//data//HUANCAVELICA//regions_list.csv\n"
     ]
    }
   ],
   "source": [
    "import csv\n",
    "place_name=\"HUANCAVELICA\"\n",
    "\n",
    "file_path = f'D://uw//data//{place_name}//region.txt'\n",
    "\n",
    "with open(file_path, 'r', encoding='utf-8') as file:\n",
    "    data = [line.strip(\" ',\\n\") for line in file.readlines()]\n",
    "\n",
    "# Remove the last string after \"---\" in each row\n",
    "cleaned_rows = [row.rsplit('---', 1)[0].strip() for row in data]\n",
    "\n",
    "# Split the remaining string using \"---\" and determine the maximum number of regions\n",
    "split_rows = [row.split('---') for row in cleaned_rows]\n",
    "max_regions = max(len(row) - 1 for row in split_rows)\n",
    "\n",
    "# Create CSV file with columns named \"Region 1\", \"Region 2\", ..., \"Region n\"\n",
    "csv_file_path = f'D://uw//data//{place_name}//regions_list.csv'\n",
    "with open(csv_file_path, 'w', newline='', encoding='utf-8') as csv_file:\n",
    "    fieldnames = [f\"Region {i}\" for i in range(1, max_regions + 1)]\n",
    "    csv_writer = csv.DictWriter(csv_file, fieldnames=fieldnames)\n",
    "    \n",
    "    # Write header\n",
    "    csv_writer.writeheader()\n",
    "    \n",
    "    # Write rows\n",
    "    for row in split_rows:\n",
    "        row_data = {f\"Region {i + 1}\": region.strip() if i < len(row) - 1 else '' for i, region in enumerate(row[1:])}\n",
    "        csv_writer.writerow(row_data)\n",
    "\n",
    "print(f\"region_list file has been created at: {csv_file_path}\")\n"
   ]
  },
  {
   "cell_type": "code",
   "execution_count": null,
   "metadata": {},
   "outputs": [],
   "source": []
  }
 ],
 "metadata": {
  "kernelspec": {
   "display_name": "SwitchOff",
   "language": "python",
   "name": "python3"
  },
  "language_info": {
   "codemirror_mode": {
    "name": "ipython",
    "version": 3
   },
   "file_extension": ".py",
   "mimetype": "text/x-python",
   "name": "python",
   "nbconvert_exporter": "python",
   "pygments_lexer": "ipython3",
   "version": "0.0.0"
  }
 },
 "nbformat": 4,
 "nbformat_minor": 2
}
