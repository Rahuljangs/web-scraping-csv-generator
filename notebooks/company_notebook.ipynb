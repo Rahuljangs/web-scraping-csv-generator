{
 "cells": [
  {
   "cell_type": "code",
   "execution_count": 23,
   "metadata": {},
   "outputs": [
    {
     "name": "stdout",
     "output_type": "stream",
     "text": [
      "CSV file has been created at: D://uw//data//HUANCAVELICA//company.csv\n"
     ]
    }
   ],
   "source": [
    "import csv\n",
    "\n",
    "place_name=\"HUANCAVELICA\"\n",
    "\n",
    "file_path = f'D://uw//data//{place_name}//region.txt'\n",
    "\n",
    "with open(file_path, 'r', encoding='utf-8') as file:\n",
    "    data = [line.strip(\" ',\\n\") for line in file.readlines()]\n",
    "\n",
    "rows = [row.strip().split('---')[-1].strip() for row in data]\n",
    "\n",
    "# Write to CSV file\n",
    "csv_file_path = f'D://uw//data//{place_name}//company.csv'\n",
    "with open(csv_file_path, 'w', newline='', encoding='utf-8') as csv_file:\n",
    "    csv_writer = csv.writer(csv_file)\n",
    "    \n",
    "    # Write rows\n",
    "    csv_writer.writerows([[row] for row in rows])\n",
    "\n",
    "print(f\"company CSV file has been created at: {csv_file_path}\")"
   ]
  },
  {
   "cell_type": "code",
   "execution_count": 20,
   "metadata": {},
   "outputs": [],
   "source": [
    "file_path = 'D://uw//data//HUANCAVELICA//region.txt'\n",
    "\n",
    "with open(file_path, 'r', encoding='utf-8') as file:\n",
    "    data = file.readlines()"
   ]
  },
  {
   "cell_type": "code",
   "execution_count": 21,
   "metadata": {},
   "outputs": [
    {
     "data": {
      "text/plain": [
       "['--- HUANCAVELICA --- ACOBAMBA --- ACOBAMBA --- SIACDI S.A.C.',\n",
       " '--- HUANCAVELICA --- ACOBAMBA --- ANTA --- COMUNIDAD CAMPESINA DE HUAYANAY',\n",
       " '--- HUANCAVELICA --- ACOBAMBA --- ANTA --- COMUNIDAD CAMPESINA DE TAMBRAICO',\n",
       " '--- HUANCAVELICA --- ACOBAMBA --- ROSARIO --- ASOCIACIÓN DE PRODUCTORES AGROPECUARIOS LOS ILLAPAS DE CHANQUIL-ROSARIO',\n",
       " '--- HUANCAVELICA --- ACOBAMBA --- ROSARIO --- ASOCIACION DE PRODUCTORES AGROPECUARIOS UNION CHANQUIL',\n",
       " '--- HUANCAVELICA --- ANGARAES --- LIRCAY --- ASOCIACIÓN DE PRODUCTORES AGROPECUARIOS VALLE LOS GUINDALES PATA',\n",
       " '--- HUANCAVELICA --- ANGARAES --- LIRCAY --- ASOCIACIÓN DE PRODUCTORES AGROPECUARIOS Y MULTISERVICIOS HUERTO DE LAS ROSAS',\n",
       " '--- HUANCAVELICA --- ANGARAES --- SANTO TOMAS DE PATA --- COMUNIDAD CAMPESINA DE SANTO TOMAS DE PATA Y ANEXOS DE ANTA Y MESACCOCHA',\n",
       " '--- HUANCAVELICA --- CHURCAMPA --- PAUCARBAMBA --- ASOCIACION AGROPECUARIA NUEVA GENERACION DE COMUHUILLCA',\n",
       " '--- HUANCAVELICA --- CHURCAMPA --- PAUCARBAMBA --- ASOCIACION DE PRODUCTORES AGROPECUARIOS FAMILIA ABREGU DE HUARIBAMBILLA',\n",
       " '--- HUANCAVELICA --- HUANCAVELICA --- HUANDO --- ASOC. DE PRODUCTORES Y PRODUCTORAS AGROPEC. AGROECOLOGICO FORESTAL LOS INNOVADORES RIKCHARY LLAQTA',\n",
       " '--- HUANCAVELICA --- HUANCAVELICA --- IZCUCHACA --- COMUNIDAD CAMPESINA DE LARMENTA',\n",
       " '--- HUANCAVELICA --- HUANCAVELICA --- NUEVO OCCORO --- ASOC. DE PROD. AGROP. Y SERV. MULT. TUBERCULOS ANDINOS DE NUEVO OCCORO-APATANO DIST. NUEVO OCCO',\n",
       " '--- HUANCAVELICA --- HUANCAVELICA --- NUEVO OCCORO --- COMUNIDAD CAMPESINA DE OCCORO VIEJO',\n",
       " '--- HUANCAVELICA --- HUAYTARA --- HUAYACUNDO ARMA --- COMUNIDAD CAMPESINA DE HUAYACUNDO ARMA',\n",
       " '--- HUANCAVELICA --- TAYACAJA --- AHUAYCHA --- ASOC. DE PROD. AGROP. ECOL. Y SERV. MULT. NUEVO AMANECER DEL ANEX. DE RUDIOPAMPA, DISTR. DE AHUAYCHA',\n",
       " '--- HUANCAVELICA --- TAYACAJA --- ANDAYMARCA --- ASOCIACION DE SERVICIOS MULTIPLES VALLADOLID P.',\n",
       " '--- HUANCAVELICA --- TAYACAJA --- COLCABAMBA --- ASOCIACIÓN DE PRODUCTORES AGROPECUARIOS Y SERVICIOS MÚLTIPLES SANTA FE DE JABONILLO - COLCABAMBA',\n",
       " '--- HUANCAVELICA --- TAYACAJA --- COLCABAMBA --- ASOCIACION DE PRODUCTORES RENACIENDO EN UN NUEVO POR VENIR EN NUESTRA TIERRA ZARZAPAMPA & POCYACC',\n",
       " '--- HUANCAVELICA --- TAYACAJA --- HUARIBAMBA --- ASOCIACION DE PRODUCTORES AGROPECUARIOS LOS LIDERES COMUNIDAD CAMPESINA SAN JUAN DE CHICCHICANCHA',\n",
       " '--- HUANCAVELICA --- TAYACAJA --- ÑAHUIMPUQUIO --- COMUNIDAD CAMPESINA DE CALLACASA',\n",
       " '--- HUANCAVELICA --- TAYACAJA --- PAMPAS --- ASOC PROD PLANTAS FOR Y AGRIC PROSP AMB-APFAPA COM UYROS PAMPA-MUTUY PATA DIST PAMPAS-TAYACAJA-HVCA',\n",
       " '--- HUANCAVELICA --- TAYACAJA --- PAZOS --- AGROEXPORT PERU CORPORATION S.A.C',\n",
       " '--- HUANCAVELICA --- TAYACAJA --- PAZOS --- COMUNIDAD CAMPESINA DE QUISHUARCANCHA',\n",
       " '--- HUANCAVELICA --- TAYACAJA --- PAZOS --- COMUNIDAD CAMPESINA SAN JOSE DE AYMARA',\n",
       " '--- HUANCAVELICA --- TAYACAJA --- ROBLE --- ASOCIACION DE PRODUCTORES AGROPECUARIOS JUDA PARIAC',\n",
       " '--- HUANCAVELICA --- TAYACAJA --- SALCABAMBA --- COMUNIDAD CAMPESINA DE BELLAVISTA LAUCA',\n",
       " '--- HUANCAVELICA --- TAYACAJA --- SURCUBAMBA --- ASOCIACION DE PRODUCTORES AGROPECUARIOS NUEVA REVELACION UNION MILLPO',\n",
       " '--- HUANCAVELICA --- TAYACAJA --- SURCUBAMBA --- COMUNIDAD CAMPESINA DE SOCOS']"
      ]
     },
     "execution_count": 21,
     "metadata": {},
     "output_type": "execute_result"
    }
   ],
   "source": [
    "data"
   ]
  },
  {
   "cell_type": "code",
   "execution_count": null,
   "metadata": {},
   "outputs": [],
   "source": []
  }
 ],
 "metadata": {
  "kernelspec": {
   "display_name": "SwitchOff",
   "language": "python",
   "name": "python3"
  },
  "language_info": {
   "codemirror_mode": {
    "name": "ipython",
    "version": 3
   },
   "file_extension": ".py",
   "mimetype": "text/x-python",
   "name": "python",
   "nbconvert_exporter": "python",
   "pygments_lexer": "ipython3",
   "version": "0.0.0"
  }
 },
 "nbformat": 4,
 "nbformat_minor": 2
}
